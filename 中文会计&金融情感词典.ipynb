{
 "cells": [
  {
   "cell_type": "markdown",
   "metadata": {},
   "source": [
    "这篇文章是公众号关注者郝童鞋今早发给我的，在此谢谢郝童鞋。\n",
    "\n",
    "文章基于简单算法和人工判断，使用多阶段剔除法，构建了``中文金融情感词典CFSD（Chinese Financial Sentiment Dictionary）``， 这个词典能帮到那些想用文本分析研究会计金融领域的中文文档的研究者。 CFSD词典有1489个负面词，1108个正面词。并且简单讨论了CFSD词典的应用领域。\n",
    "\n",
    "本篇教程主要分为两部分：\n",
    "\n",
    "1. 这篇论文如何构建``中文金融情感词典`` \n",
    "2. 大邓将论文附录中的词典整理好给大家用\n",
    "\n",
    "### 一、构建中文金融情感词典 \n",
    "情感分析目前有两大方式，情感词典法和机器学习法。基于情感词典的文本分析，必须要有好用的词典。但由于语言差异，英文的情感词典无法直接应用于中文的情感分析，而且目前中文的情感词典（如HOWNET、DLUTSD、NTUSD）都是通用性词典（大多是形容词副词），并不是专业领域词典。Loughran和 McDonald (2011)曾经指出研究商业领域问题的文本数据不应该使用非商业领域数据集构建出的词典。\n",
    "\n",
    "因此本文作者使用HOWNET、DLUTSD、NTUSD三种词典作为初始词典，并搜集了在线路演纪要（online roadshow transcripts）、业绩说明电话会议纪要（earnings conference call transcripts）、IPO招股报告（IPO prospectus）及公司年报构建了基础语料库。基于算法和人工判断， 使用多阶段剔除法来构建 ``中文金融情感词典CFSD``。具体步骤：\n",
    "\n",
    "1. 合并HOWNET、DLUTSD、NTUSD三个情感词典，去除重复词\n",
    "2. 收集了1411篇在线路演纪要、7138篇业绩说明电话会议纪要、2043IPO招股报告和29737公司年报。jieba被用于分割文档，构建 ``基础语料``\n",
    "3. 计算步骤1所有的词在 ``基础语料`` 中的词频，词频数为0的词语不予考虑，剔除掉。与金融不相关的词语也剔除掉，最终构建了``CFSD0.0``版本中文金融情感词典。\n",
    "4. 所有的CFSD0.0版本的词语都来自与三个通用情感词典（HOWNET、DLUTSD、NTUSD），但这三个词典并不包含金融领域常出现的正面词和负面词。我们人工向``CFSD0.0``版情感词典加入了金融领域最常用的100个正面词100个负面词，构建出``CFSD0.1``版中文金融情感词典.\n",
    "5. Gensim是python中的一个文本分析库，在本步骤主要用来通过大量的语料训练处词向量。词向量可以使用余弦cos计算出相似性。在本步骤，计算出CFSD0.1版中每个词的词向量，进而从 ``基础语料`` 中发现每个词（CFSD0.1中的词）最相似的50个词。剔除掉与金融不关的词（包括相似词、同义词），构建出 ``CFSD0.2版的中文金融情感词典``\n",
    "6. 合并 ``CFSD0.0、CFSD0.1、 CFSD0.2 ``,剔除掉重复词，最终构建出 ``CFSD中文金融情感词典``\n",
    "\n",
    "构件好的CFSD词典有1489个负面词，1108个正面词。"
   ]
  },
  {
   "cell_type": "markdown",
   "metadata": {},
   "source": [
    "### 二、词典整理到csv文件中\n",
    "论文后面富有CFSD情感词典，如下\n",
    "## img/正面.png)\n",
    "我想先将这些内容全部复制到txt中，正面词表复制粘贴到 ``正面词典.txt``， 负面词表复制粘贴到 ``负面词典.txt``。\n",
    "## img/正面s.gif)\n",
    "通过中文正则表达式 ``[\\u4e00-\\u9fa5]+`` 把txt文件里面所有的中文词抽取出来，存到csv文件中。开始~"
   ]
  },
  {
   "cell_type": "code",
   "execution_count": 1,
   "metadata": {},
   "outputs": [
    {
     "ename": "FileNotFoundError",
     "evalue": "[Errno 2] No such file or directory: '正面词典.txt'",
     "output_type": "error",
     "traceback": [
      "\u001b[1;31m---------------------------------------------------------------------------\u001b[0m",
      "\u001b[1;31mFileNotFoundError\u001b[0m                         Traceback (most recent call last)",
      "\u001b[1;32m<ipython-input-1-4279c19f523f>\u001b[0m in \u001b[0;36m<module>\u001b[1;34m\u001b[0m\n\u001b[0;32m     13\u001b[0m     \u001b[0mcsvf\u001b[0m\u001b[1;33m.\u001b[0m\u001b[0mclose\u001b[0m\u001b[1;33m(\u001b[0m\u001b[1;33m)\u001b[0m\u001b[1;33m\u001b[0m\u001b[1;33m\u001b[0m\u001b[0m\n\u001b[0;32m     14\u001b[0m \u001b[1;33m\u001b[0m\u001b[0m\n\u001b[1;32m---> 15\u001b[1;33m extract_keywords(infile = '正面词典.txt', \n\u001b[0m\u001b[0;32m     16\u001b[0m                  \u001b[0moutfile\u001b[0m \u001b[1;33m=\u001b[0m \u001b[1;34m'正面词典.csv'\u001b[0m\u001b[1;33m,\u001b[0m\u001b[1;33m\u001b[0m\u001b[1;33m\u001b[0m\u001b[0m\n\u001b[0;32m     17\u001b[0m                  header = 'postive')\n",
      "\u001b[1;32m<ipython-input-1-4279c19f523f>\u001b[0m in \u001b[0;36mextract_keywords\u001b[1;34m(infile, outfile, header)\u001b[0m\n\u001b[0;32m      4\u001b[0m \u001b[1;33m\u001b[0m\u001b[0m\n\u001b[0;32m      5\u001b[0m \u001b[1;32mdef\u001b[0m \u001b[0mextract_keywords\u001b[0m\u001b[1;33m(\u001b[0m\u001b[0minfile\u001b[0m\u001b[1;33m,\u001b[0m \u001b[0moutfile\u001b[0m\u001b[1;33m,\u001b[0m \u001b[0mheader\u001b[0m\u001b[1;33m)\u001b[0m\u001b[1;33m:\u001b[0m\u001b[1;33m\u001b[0m\u001b[1;33m\u001b[0m\u001b[0m\n\u001b[1;32m----> 6\u001b[1;33m     \u001b[0mraw_kws_string\u001b[0m \u001b[1;33m=\u001b[0m \u001b[0mopen\u001b[0m\u001b[1;33m(\u001b[0m\u001b[0minfile\u001b[0m\u001b[1;33m)\u001b[0m\u001b[1;33m.\u001b[0m\u001b[0mread\u001b[0m\u001b[1;33m(\u001b[0m\u001b[1;33m)\u001b[0m\u001b[1;33m\u001b[0m\u001b[1;33m\u001b[0m\u001b[0m\n\u001b[0m\u001b[0;32m      7\u001b[0m     \u001b[0mkws\u001b[0m \u001b[1;33m=\u001b[0m \u001b[0mre\u001b[0m\u001b[1;33m.\u001b[0m\u001b[0mfindall\u001b[0m\u001b[1;33m(\u001b[0m\u001b[1;34m'[\\u4e00-\\u9fa5]+'\u001b[0m\u001b[1;33m,\u001b[0m \u001b[0mraw_kws_string\u001b[0m\u001b[1;33m)\u001b[0m\u001b[1;33m\u001b[0m\u001b[1;33m\u001b[0m\u001b[0m\n\u001b[0;32m      8\u001b[0m     \u001b[0mcsvf\u001b[0m \u001b[1;33m=\u001b[0m \u001b[0mopen\u001b[0m\u001b[1;33m(\u001b[0m\u001b[0moutfile\u001b[0m\u001b[1;33m,\u001b[0m \u001b[1;34m'w'\u001b[0m\u001b[1;33m,\u001b[0m \u001b[0mencoding\u001b[0m\u001b[1;33m=\u001b[0m\u001b[1;34m'gbk'\u001b[0m\u001b[1;33m,\u001b[0m \u001b[0mnewline\u001b[0m\u001b[1;33m=\u001b[0m\u001b[1;34m''\u001b[0m\u001b[1;33m)\u001b[0m\u001b[1;33m\u001b[0m\u001b[1;33m\u001b[0m\u001b[0m\n",
      "\u001b[1;31mFileNotFoundError\u001b[0m: [Errno 2] No such file or directory: '正面词典.txt'"
     ]
    }
   ],
   "source": [
    "import jieba\n",
    "import re\n",
    "import csv\n",
    "\n",
    "def extract_keywords(infile, outfile, header):\n",
    "    raw_kws_string = open(infile).read()\n",
    "    kws = re.findall('[\\u4e00-\\u9fa5]+', raw_kws_string)\n",
    "    csvf = open(outfile, 'w', encoding='gbk', newline='')\n",
    "    writer = csv.writer(csvf)\n",
    "    writer.writerow((header,))\n",
    "    for kw in set(kws):\n",
    "        writer.writerow((kw,))\n",
    "    csvf.close()\n",
    "\n",
    "extract_keywords(infile = '正面词典.txt', \n",
    "                 outfile = '正面词典.csv', \n",
    "                 header = 'postive')\n",
    "\n",
    "extract_keywords(infile = '负面词典.txt', \n",
    "                 outfile = '负面词典.csv', \n",
    "                 header = 'negative')"
   ]
  },
  {
   "cell_type": "markdown",
   "metadata": {},
   "source": [
    "现在我们的项目文件夹中出现了 ``正面词典.csv 、 负面词典.csv`` , 现在我们可以试着读取一下  正面词典.csv"
   ]
  },
  {
   "cell_type": "code",
   "execution_count": null,
   "metadata": {},
   "outputs": [],
   "source": [
    "import pandas as pd\n",
    "\n",
    "#正面词典.csv中有1109个词\n",
    "df = pd.read_csv('正面词典.csv', encoding='gbk')\n",
    "len(df)"
   ]
  },
  {
   "cell_type": "markdown",
   "metadata": {},
   "source": [
    "负面词典.csv中有1488个词"
   ]
  },
  {
   "cell_type": "code",
   "execution_count": null,
   "metadata": {},
   "outputs": [],
   "source": [
    "df2 = pd.read_csv('负面词典.csv', encoding='gbk')\n",
    "len(df2)"
   ]
  },
  {
   "cell_type": "code",
   "execution_count": null,
   "metadata": {},
   "outputs": [],
   "source": [
    "词典中的词数与论文中的 1108和 1489有出入，应该是复制粘贴时不够自信。下面我们看看词典中的内容"
   ]
  },
  {
   "cell_type": "code",
   "execution_count": null,
   "metadata": {},
   "outputs": [],
   "source": [
    "#正面词典前5\n",
    "df.head(5)"
   ]
  },
  {
   "cell_type": "code",
   "execution_count": null,
   "metadata": {},
   "outputs": [],
   "source": [
    "#负面词典前5\n",
    "df2.head(5)"
   ]
  },
  {
   "cell_type": "code",
   "execution_count": null,
   "metadata": {},
   "outputs": [],
   "source": []
  }
 ],
 "metadata": {
  "kernelspec": {
   "display_name": "Python 3",
   "language": "python",
   "name": "python3"
  },
  "language_info": {
   "codemirror_mode": {
    "name": "ipython",
    "version": 3
   },
   "file_extension": ".py",
   "mimetype": "text/x-python",
   "name": "python",
   "nbconvert_exporter": "python",
   "pygments_lexer": "ipython3",
   "version": "3.8.3"
  },
  "toc": {
   "base_numbering": 1,
   "nav_menu": {},
   "number_sections": true,
   "sideBar": true,
   "skip_h1_title": false,
   "title_cell": "Table of Contents",
   "title_sidebar": "Contents",
   "toc_cell": false,
   "toc_position": {},
   "toc_section_display": true,
   "toc_window_display": false
  }
 },
 "nbformat": 4,
 "nbformat_minor": 2
}
